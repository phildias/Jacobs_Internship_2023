{
 "cells": [
  {
   "cell_type": "code",
   "execution_count": 1,
   "id": "1380084a",
   "metadata": {},
   "outputs": [],
   "source": [
    "#gets necessary classes from the pytorch library\n",
    "import torch\n",
    "import torch.nn as nn\n",
    "import torch.nn.functional as F\n",
    "import torchvision.transforms as transform\n",
    "from torchvision import datasets\n",
    "\n",
    "#gets numpy to handle formating\n",
    "import numpy as np\n",
    "\n",
    "#gets matplotlib to handle imagery\n",
    "import matplotlib.pyplot as plt\n",
    "%matplotlib inline"
   ]
  },
  {
   "cell_type": "code",
   "execution_count": 2,
   "id": "a6d18827",
   "metadata": {},
   "outputs": [],
   "source": [
    "#sets tranform to convert to tensors\n",
    "transform = transform.ToTensor()\n",
    "\n",
    "#download data for training the model and testing and convert it to tensors\n",
    "train_data = datasets.MNIST(root='data', train=True, download=True, transform=transform)\n",
    "test_data = datasets.MNIST(root='data', train=False, download=True, transform=transform)"
   ]
  },
  {
   "cell_type": "code",
   "execution_count": 3,
   "id": "2551ef76",
   "metadata": {},
   "outputs": [],
   "source": [
    "#set the number os subprocesses for data loading\n",
    "num_workers = 0\n",
    "\n",
    "#set the batch size\n",
    "batch_size = 20\n",
    "\n",
    "#load the training and test data\n",
    "train_loader = torch.utils.data.DataLoader(train_data, batch_size=batch_size, num_workers=num_workers)\n",
    "test_loader = torch.utils.data.DataLoader(test_data, batch_size=batch_size, num_workers=num_workers)"
   ]
  },
  {
   "cell_type": "code",
   "execution_count": 4,
   "id": "28197524",
   "metadata": {},
   "outputs": [
    {
     "data": {
      "text/plain": [
       "<matplotlib.image.AxesImage at 0x1b8eec3bf10>"
      ]
     },
     "execution_count": 4,
     "metadata": {},
     "output_type": "execute_result"
    },
    {
     "data": {
      "image/png": "[encoded data removed]",
      "text/plain": [
       "<Figure size 500x500 with 1 Axes>"
      ]
     },
     "metadata": {},
     "output_type": "display_data"
    }
   ],
   "source": [
    "#obtain one batch of images to train\n",
    "dataiter = iter(train_loader)\n",
    "images, labels = next(dataiter)\n",
    "\n",
    "#convert to usable array\n",
    "images = images.numpy()\n",
    "\n",
    "# get one image from the batch\n",
    "img = np.squeeze(images[0])\n",
    "\n",
    "#display image\n",
    "fig = plt.figure(figsize = (5,5)) \n",
    "ax = fig.add_subplot(111)\n",
    "ax.imshow(img, cmap='gray')"
   ]
  },
  {
   "cell_type": "code",
   "execution_count": 5,
   "id": "dd711242",
   "metadata": {},
   "outputs": [],
   "source": [
    "class Autoencoder(nn.Module):\n",
    "    def __init__(self, encoding_dim):\n",
    "        #add on to inheritance from parent class\n",
    "        super(Autoencoder, self).__init__()\n",
    "        \n",
    "        #encoder\n",
    "        self.layer1 = nn.Linear(784, 128)\n",
    "        self.layer2 = nn.Linear(128, encoding_dim)\n",
    "        \n",
    "        #decoder\n",
    "        self.olayer1 = nn.Linear(encoding_dim, 128)\n",
    "        self.olayer2 = nn.Linear(128, 784)\n",
    "        \n",
    "    def forward(self, x):\n",
    "        #apply relu function to parameters\n",
    "        x = F.relu(self.layer1(x))\n",
    "        x = F.relu(self.layer2(x))\n",
    "        x = F.relu(self.olayer1(x))\n",
    "        \n",
    "        #apply sigmoid function to output\n",
    "        x = torch.sigmoid(self.olayer2(x))\n",
    "        \n",
    "        return x      "
   ]
  },
  {
   "cell_type": "code",
   "execution_count": 6,
   "id": "04ddaabf",
   "metadata": {},
   "outputs": [],
   "source": [
    "#set encoding dimension\n",
    "encoding_dim = 8  \n",
    "\n",
    "#instatiate a model\n",
    "model = Autoencoder(encoding_dim)"
   ]
  },
  {
   "cell_type": "code",
   "execution_count": 7,
   "id": "5eb0890f",
   "metadata": {},
   "outputs": [],
   "source": [
    "# specify loss function\n",
    "criterion = nn.MSELoss()\n",
    "\n",
    "#specify optimizer\n",
    "optimizer = torch.optim.Adam(model.parameters(), lr=0.001)"
   ]
  },
  {
   "cell_type": "code",
   "execution_count": 10,
   "id": "d767965c",
   "metadata": {},
   "outputs": [
    {
     "name": "stdout",
     "output_type": "stream",
     "text": [
      "Epoch: 1 \tTraining Loss: 0.564640\n",
      "Epoch: 2 \tTraining Loss: 0.534250\n",
      "Epoch: 3 \tTraining Loss: 0.518265\n",
      "Epoch: 4 \tTraining Loss: 0.507637\n",
      "Epoch: 5 \tTraining Loss: 0.499804\n"
     ]
    }
   ],
   "source": [
    "#number of epochs when training the model\n",
    "n_epochs = 5\n",
    "\n",
    "for epoch in range(1, n_epochs+1):\n",
    "    #set variable to follow training loss\n",
    "    train_loss = 0\n",
    "    \n",
    "    #training the model\n",
    "    for data in train_loader:\n",
    "        #get data\n",
    "        images, labels = data\n",
    "        \n",
    "        #flatten images\n",
    "        images = images.view(images.size(0), -1)\n",
    "        \n",
    "        #clear the gradients of all parameters\n",
    "        optimizer.zero_grad()\n",
    "        \n",
    "        #find predicted outputs\n",
    "        outputs = model(images)\n",
    "        \n",
    "        #calculate the loss\n",
    "        loss = criterion(outputs, images)\n",
    "        \n",
    "        #compute gradient of the loss with respect to parameters\n",
    "        loss.backward()\n",
    "        \n",
    "        #update the parameters\n",
    "        optimizer.step()\n",
    "        \n",
    "        #update training loss\n",
    "        train_loss += loss.item()*images.size(0)\n",
    "        \n",
    "    # print average training loss \n",
    "    train_loss = train_loss/len(train_loader)\n",
    "    print('Epoch: {} \\tTraining Loss: {:.6f}'.format(\n",
    "        epoch, \n",
    "        train_loss\n",
    "        ))"
   ]
  },
  {
   "cell_type": "code",
   "execution_count": 11,
   "id": "38b4589c",
   "metadata": {},
   "outputs": [
    {
     "data": {
      "image/png": "[encoded data removed]",
      "text/plain": [
       "<Figure size 2500x400 with 20 Axes>"
      ]
     },
     "metadata": {},
     "output_type": "display_data"
    }
   ],
   "source": [
    "#obtain one batch of test images\n",
    "dataiter = iter(test_loader)\n",
    "images, labels = next(dataiter)\n",
    "\n",
    "#flatten the images\n",
    "images_flatten = images.view(images.size(0), -1)\n",
    "\n",
    "#get sample outputs\n",
    "output = model(images_flatten)\n",
    "\n",
    "#convert images to usable format\n",
    "images = images.numpy()\n",
    "\n",
    "#resize images\n",
    "output = output.view(batch_size, 1, 28, 28)\n",
    "\n",
    "#use detach when it's an output that requires_grad\n",
    "output = output.detach().numpy()\n",
    "\n",
    "#plots 10 images and their reconstructions\n",
    "fig, axes = plt.subplots(nrows=2, ncols=10, sharex=True, sharey=True, figsize=(25,4))\n",
    "\n",
    "#displays input images on top row, reconstructions on bottom\n",
    "for images, row in zip([images, output], axes):\n",
    "    for img, ax in zip(images, row):\n",
    "        ax.imshow(np.squeeze(img), cmap='gray')\n",
    "        ax.get_xaxis().set_visible(False)\n",
    "        ax.get_yaxis().set_visible(False)"
   ]
  },
  {
   "cell_type": "code",
   "execution_count": null,
   "id": "1f1f1ceb",
   "metadata": {},
   "outputs": [],
   "source": []
  }
 ],
 "metadata": {
  "kernelspec": {
   "display_name": "NN",
   "language": "python",
   "name": "nn"
  },
  "language_info": {
   "codemirror_mode": {
    "name": "ipython",
    "version": 3
   },
   "file_extension": ".py",
   "mimetype": "text/x-python",
   "name": "python",
   "nbconvert_exporter": "python",
   "pygments_lexer": "ipython3",
   "version": "3.10.12"
  }
 },
 "nbformat": 4,
 "nbformat_minor": 5
}
